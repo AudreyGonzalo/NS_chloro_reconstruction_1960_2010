{
  "nbformat": 4,
  "nbformat_minor": 0,
  "metadata": {
    "colab": {
      "name": "variables_strenght_assessment.ipynb",
      "provenance": [],
      "collapsed_sections": [],
      "toc_visible": true
    },
    "kernelspec": {
      "name": "python3",
      "display_name": "Python 3"
    },
    "language_info": {
      "name": "python"
    }
  },
  "cells": [
    {
      "cell_type": "markdown",
      "metadata": {
        "id": "0ao5wH5Fsljz"
      },
      "source": [
        "# **Imports**"
      ]
    },
    {
      "cell_type": "code",
      "metadata": {
        "id": "DJlBUDmJTeOc"
      },
      "source": [
        "import numpy as np\n",
        "import matplotlib.pyplot as plt\n",
        "import torch\n",
        "import torch.nn as nn\n",
        "import torch.nn.functional as F\n",
        "from torch.autograd import Variable\n",
        "import torch.optim as optim\n",
        "from torch.utils.data import Dataset, DataLoader\n",
        "from tqdm import tqdm"
      ],
      "execution_count": 31,
      "outputs": []
    },
    {
      "cell_type": "code",
      "metadata": {
        "colab": {
          "base_uri": "https://localhost:8080/"
        },
        "id": "Sz0bSaVf0sM2",
        "outputId": "e108146e-8ae4-4199-b077-369bfcd7a6f7"
      },
      "source": [
        "from google.colab import drive\n",
        "drive.mount('/content/drive')"
      ],
      "execution_count": 32,
      "outputs": [
        {
          "output_type": "stream",
          "text": [
            "Drive already mounted at /content/drive; to attempt to forcibly remount, call drive.mount(\"/content/drive\", force_remount=True).\n"
          ],
          "name": "stdout"
        }
      ]
    },
    {
      "cell_type": "markdown",
      "metadata": {
        "id": "YqzZY5p3u-Zv"
      },
      "source": [
        "# **Load the formated data**"
      ]
    },
    {
      "cell_type": "code",
      "metadata": {
        "id": "8HSIqRRYvPyW"
      },
      "source": [
        "directory = '/content/drive/My Drive/Colab Notebooks/North_Sea/'\n",
        "exec(open(directory + 'src/inputs_rdn.py').read())"
      ],
      "execution_count": 104,
      "outputs": []
    },
    {
      "cell_type": "code",
      "metadata": {
        "id": "aPpcKWSesnUH"
      },
      "source": [
        "time_years, inp_true_test, chl_stand, NAO_stand, MLD_stand, SST_stand, wind_stand, AMO_stand = var_stand(directory)"
      ],
      "execution_count": 90,
      "outputs": []
    },
    {
      "cell_type": "markdown",
      "metadata": {
        "id": "AL9uEpABvFfo"
      },
      "source": [
        "# **Method 1**"
      ]
    },
    {
      "cell_type": "markdown",
      "metadata": {
        "id": "VjtbWuPYFJEp"
      },
      "source": [
        "> ## **Load the model**"
      ]
    },
    {
      "cell_type": "code",
      "metadata": {
        "id": "0vQfUicfMO6R"
      },
      "source": [
        "params = {}\n",
        "params['dim_chloro'] = 1\n",
        "params['dim_phy'] = 5\n",
        "params['dim_input_vect'] = params['dim_chloro'] + params['dim_phy']\n",
        "params['dim_input'] = params['dim_input_vect']\n",
        "params['dim_hidden_1'] = 32\n",
        "params['dim_hidden_2'] = 28\n",
        "params['dim_hidden_3'] = 14\n",
        "params['dim_output'] = params['dim_input']"
      ],
      "execution_count": 91,
      "outputs": []
    },
    {
      "cell_type": "code",
      "metadata": {
        "colab": {
          "base_uri": "https://localhost:8080/"
        },
        "id": "aROmR1cDFN19",
        "outputId": "66364be3-6653-413d-b9cd-51d6d1fbffd3"
      },
      "source": [
        "exec(open(directory + 'src/RNN.py').read())\n",
        "model_RNN_1 = INT_net(params)\n",
        "model_RNN_1.load_state_dict(torch.load(directory + 'models/model_1_weights.pth'))"
      ],
      "execution_count": 92,
      "outputs": [
        {
          "output_type": "execute_result",
          "data": {
            "text/plain": [
              "<All keys matched successfully>"
            ]
          },
          "metadata": {
            "tags": []
          },
          "execution_count": 92
        }
      ]
    },
    {
      "cell_type": "markdown",
      "metadata": {
        "id": "KjZGKZQuWFc2"
      },
      "source": [
        "> ## **Variables strenght assessment**"
      ]
    },
    {
      "cell_type": "code",
      "metadata": {
        "colab": {
          "base_uri": "https://localhost:8080/"
        },
        "id": "vjfJIKpJwWy_",
        "outputId": "94ad044d-a2fb-4bbc-997e-c7e714d4b46c"
      },
      "source": [
        "## SEE HOW THE ERROR EVOLVES WHEN RANDOMIZING ONE GIVEN PHYSICAL VARIABLE\n",
        "variables = ['NAO', 'MLD', 'SST', 'wind', 'AMO']\n",
        "Chl_stand_test = inp_true_test[:,0].reshape(1,-1)[0]\n",
        "model_RNN_1.double()\n",
        "for i, var in enumerate(variables):\n",
        "    print(\"[%d/%d] : \"%(i+1, len(variables)), var)\n",
        "    MSE_table = []\n",
        "    for k in range(100):\n",
        "        inp_test_rdn, inp_true_test_rdn, dt_test = inputs_rdn_1(time_years, chl_stand, NAO_stand, MLD_stand, SST_stand, wind_stand, AMO_stand, randomized_variable = var)\n",
        "        NN_outputs_test = []\n",
        "        old_pred = torch.from_numpy(inp_test_rdn[0]).view(1,-1)\n",
        "        for i in range(len(inp_test_rdn)):\n",
        "            pred = model_RNN_1(old_pred, torch.from_numpy(dt_test[i]).view(1,-1))\n",
        "            old_pred = torch.cat((pred[0,0].view(1,-1), torch.from_numpy(inp_true_test_rdn)[i,1:].view(1,-1)), axis = 1)\n",
        "            NN_outputs_test.append(pred.cpu().detach().numpy()[0][0])\n",
        "\n",
        "        NMSE = (Chl_stand_test - NN_outputs_test)**2/var_test\n",
        "        MSE_table.append(np.mean(NMSE))\n",
        "    print(\"Mean MSE :\", np.mean(MSE_table))\n",
        "    print(\"STD  MSE :\", np.std(MSE_table))\n",
        "    print()"
      ],
      "execution_count": 93,
      "outputs": [
        {
          "output_type": "stream",
          "text": [
            "[1/5] :  NAO\n",
            "Mean MSE : 1.2463836029526787\n",
            "STD  MSE : 0.010316050536275127\n",
            "\n",
            "[2/5] :  MLD\n",
            "Mean MSE : 2.2362615740602956\n",
            "STD  MSE : 0.15464427759407134\n",
            "\n",
            "[3/5] :  SST\n",
            "Mean MSE : 3.663465026446289\n",
            "STD  MSE : 0.2133523254283572\n",
            "\n",
            "[4/5] :  wind\n",
            "Mean MSE : 1.338230036965359\n",
            "STD  MSE : 0.043584932308776185\n",
            "\n",
            "[5/5] :  AMO\n",
            "Mean MSE : 1.0073697962520507\n",
            "STD  MSE : 0.014785658248203003\n",
            "\n"
          ],
          "name": "stdout"
        }
      ]
    },
    {
      "cell_type": "markdown",
      "metadata": {
        "id": "TdaocwCyef5R"
      },
      "source": [
        ">> **Variables classification :**\n",
        ">> 1.   SST\n",
        ">> 2.   MLD\n",
        ">> 3.   wind\n",
        ">> 4.   NAO\n",
        ">> 5.   AMO\n",
        "\n"
      ]
    },
    {
      "cell_type": "markdown",
      "metadata": {
        "id": "B7BXbqXIX48h"
      },
      "source": [
        "# **Method 2**"
      ]
    },
    {
      "cell_type": "markdown",
      "metadata": {
        "id": "592MWSsCYCLl"
      },
      "source": [
        "> ## **Load the model**"
      ]
    },
    {
      "cell_type": "code",
      "metadata": {
        "id": "ww5smom5YV1E"
      },
      "source": [
        "params['dt_horizon'] = 6"
      ],
      "execution_count": 94,
      "outputs": []
    },
    {
      "cell_type": "code",
      "metadata": {
        "colab": {
          "base_uri": "https://localhost:8080/"
        },
        "id": "Z6Tc8YLJYhBA",
        "outputId": "10e894f3-84d4-40f3-ef2c-e3f653ad6623"
      },
      "source": [
        "model_RNN_2 = INT_net(params)\n",
        "model_RNN_2.load_state_dict(torch.load(directory + 'models/model_2_weights.pth'))"
      ],
      "execution_count": 95,
      "outputs": [
        {
          "output_type": "execute_result",
          "data": {
            "text/plain": [
              "<All keys matched successfully>"
            ]
          },
          "metadata": {
            "tags": []
          },
          "execution_count": 95
        }
      ]
    },
    {
      "cell_type": "markdown",
      "metadata": {
        "id": "qyoi8mSuY-id"
      },
      "source": [
        "> ## **Variables strenght assessment**"
      ]
    },
    {
      "cell_type": "code",
      "metadata": {
        "colab": {
          "base_uri": "https://localhost:8080/"
        },
        "id": "dTbFtounY-id",
        "outputId": "3baa8f24-7633-47e8-db93-c513fca2efd2"
      },
      "source": [
        "## SEE HOW THE ERROR EVOLVES WHEN RANDOMIZING ONE GIVEN PHYSICAL VARIABLE\n",
        "variables = ['NAO', 'MLD', 'SST', 'wind', 'AMO']\n",
        "Chl_stand_test = inp_true_test[:,0].reshape(1,-1)[0]\n",
        "model_RNN_2.double()\n",
        "for i, var in enumerate(variables):\n",
        "    print(\"[%d/%d] : \"%(i+1, len(variables)), var)\n",
        "    MSE_table = []\n",
        "    for k in range(100):\n",
        "        inp_test_rdn, inp_true_test_rdn, dt_test = inputs_rdn_1(time_years, chl_stand, NAO_stand, MLD_stand, SST_stand, wind_stand, AMO_stand, randomized_variable = var)\n",
        "        NN_outputs_test = []\n",
        "        old_pred = torch.from_numpy(inp_test_rdn[0]).view(1,-1)\n",
        "        for i in range(len(inp_test_rdn)):\n",
        "            pred = model_RNN_2(old_pred, torch.from_numpy(dt_test[i]).view(1,-1))\n",
        "            old_pred = torch.cat((pred[0,0].view(1,-1), torch.from_numpy(inp_true_test_rdn)[i,1:].view(1,-1)), axis = 1)\n",
        "            NN_outputs_test.append(pred.cpu().detach().numpy()[0][0])\n",
        "\n",
        "        NMSE = (Chl_stand_test - NN_outputs_test)**2/var_test\n",
        "        MSE_table.append(np.mean(NMSE))\n",
        "    print(\"Mean MSE :\", np.mean(MSE_table))\n",
        "    print(\"STD  MSE :\", np.std(MSE_table))\n",
        "    print()"
      ],
      "execution_count": 96,
      "outputs": [
        {
          "output_type": "stream",
          "text": [
            "[1/5] :  NAO\n",
            "Mean MSE : 0.7793703026366796\n",
            "STD  MSE : 0.008237968237068323\n",
            "\n",
            "[2/5] :  MLD\n",
            "Mean MSE : 1.1977046868255399\n",
            "STD  MSE : 0.0783903877290972\n",
            "\n",
            "[3/5] :  SST\n",
            "Mean MSE : 3.8564247251820625\n",
            "STD  MSE : 0.3068468833160208\n",
            "\n",
            "[4/5] :  wind\n",
            "Mean MSE : 1.2465219757842312\n",
            "STD  MSE : 0.09925900800759528\n",
            "\n",
            "[5/5] :  AMO\n",
            "Mean MSE : 0.665491993645905\n",
            "STD  MSE : 0.010794240030932687\n",
            "\n"
          ],
          "name": "stdout"
        }
      ]
    },
    {
      "cell_type": "markdown",
      "metadata": {
        "id": "3DwrTi2Hd7vQ"
      },
      "source": [
        ">> **Variables classification :**\n",
        ">> 1.   SST\n",
        ">> 2.   wind\n",
        ">> 3.   MLD\n",
        ">> 4.   NAO\n",
        ">> 5.   AMO\n",
        "\n"
      ]
    },
    {
      "cell_type": "markdown",
      "metadata": {
        "id": "zClP5WXpaF9I"
      },
      "source": [
        "# **Method 3**"
      ]
    },
    {
      "cell_type": "markdown",
      "metadata": {
        "id": "uP94DoVWalQV"
      },
      "source": [
        "> ## **Load the model**"
      ]
    },
    {
      "cell_type": "code",
      "metadata": {
        "id": "k3POmAXpaKn7"
      },
      "source": [
        "params['dt_horizon'] = 4\n",
        "params['dim_input_vect'] = params['dim_chloro'] + params['dim_phy']\n",
        "params['dim_input'] = params['dim_input_vect'] * params['dt_horizon'] \n",
        "params['dim_hidden_1'] = 32\n",
        "params['dim_hidden_2'] = 28\n",
        "params['dim_hidden_3'] = 14\n",
        "params['dim_output'] = params['dim_input']"
      ],
      "execution_count": 114,
      "outputs": []
    },
    {
      "cell_type": "code",
      "metadata": {
        "colab": {
          "base_uri": "https://localhost:8080/"
        },
        "id": "E9ve_gV0apeU",
        "outputId": "a0c35b5b-9261-4ed5-a129-5ef5e1590afe"
      },
      "source": [
        "model_RNN_3 = INT_net(params)\n",
        "model_RNN_3.load_state_dict(torch.load(directory + 'models/model_3_weights.pth'))"
      ],
      "execution_count": 115,
      "outputs": [
        {
          "output_type": "execute_result",
          "data": {
            "text/plain": [
              "<All keys matched successfully>"
            ]
          },
          "metadata": {
            "tags": []
          },
          "execution_count": 115
        }
      ]
    },
    {
      "cell_type": "markdown",
      "metadata": {
        "id": "8eArQXTna5rX"
      },
      "source": [
        "> ## **Variables strenght assessment**"
      ]
    },
    {
      "cell_type": "code",
      "metadata": {
        "colab": {
          "base_uri": "https://localhost:8080/"
        },
        "id": "qbTm0me6a33s",
        "outputId": "b699b8e7-b251-4fc3-c63d-9b66bd9a339a"
      },
      "source": [
        "## SEE HOW THE ERROR EVOLVES WHEN RANDOMIZING ONE GIVEN PHYSICAL VARIABLE\n",
        "variables = ['NAO', 'MLD', 'SST', 'wind', 'AMO']\n",
        "Chl_stand_test = inp_true_test[:,0].reshape(1,-1)[0]\n",
        "for i, var in enumerate(variables):\n",
        "    print(\"[%d/%d] : \"%(i+1, len(variables)), var)\n",
        "    MSE_table = []\n",
        "    for k in range(100):\n",
        "        inp_test_rdn, inp_true_test_rdn, dt_test = inputs_rdn_3(time_years, chl_stand, NAO_stand, MLD_stand, SST_stand, wind_stand, AMO_stand, params['dt_horizon'], randomized_variable = var)\n",
        "        NN_outputs_test = []\n",
        "        old_pred = inp_test_rdn[0].view(1,-1)\n",
        "        for i in range(len(inp_test_rdn)):\n",
        "            six_prev_months = old_pred\n",
        "            pred = model_RNN_3(old_pred, torch.ones([1,1]).view(1,-1))\n",
        "            old_pred = torch.cat((six_prev_months[0, params['dim_input_vect']:].view(1,-1), pred[0,0].view(1,-1)), axis = 1) # drop the oldest month (t-6) of lenght params['dim_input_vect'] = 6, and concat with Chl predicted at month t\n",
        "            old_pred = torch.cat((old_pred, inp_true_test_rdn[i,1:params['dim_input_vect']].view(1,-1)), axis = 1) # concat with the true physics à month t\n",
        "            NN_outputs_test.append(pred.cpu().detach().numpy()[0,0])\n",
        "\n",
        "        NMSE = (Chl_stand_test[params['dt_horizon']:-params['dt_horizon']] - NN_outputs_test)**2/var_test\n",
        "        MSE_table.append(np.mean(NMSE))\n",
        "    print(\"Mean MSE :\", np.mean(MSE_table))\n",
        "    print(\"STD  MSE :\", np.std(MSE_table))\n",
        "    print()"
      ],
      "execution_count": 116,
      "outputs": [
        {
          "output_type": "stream",
          "text": [
            "[1/5] :  NAO\n",
            "Mean MSE : 1.7049143959436988\n",
            "STD  MSE : 0.01583642542097043\n",
            "\n",
            "[2/5] :  MLD\n",
            "Mean MSE : 1.5784905737856705\n",
            "STD  MSE : 0.16022638101907563\n",
            "\n",
            "[3/5] :  SST\n",
            "Mean MSE : 6.592064109449791\n",
            "STD  MSE : 2.9326354348838026\n",
            "\n",
            "[4/5] :  wind\n",
            "Mean MSE : 2.0349057008975255\n",
            "STD  MSE : 0.3580008594041561\n",
            "\n",
            "[5/5] :  AMO\n",
            "Mean MSE : 1.6979891090791293\n",
            "STD  MSE : 0.01956283783689452\n",
            "\n"
          ],
          "name": "stdout"
        }
      ]
    },
    {
      "cell_type": "markdown",
      "metadata": {
        "id": "87Pv3ztbewAS"
      },
      "source": [
        ">> **Variables classification :**\n",
        ">> 1.   SST\n",
        ">> 2.   wind\n",
        ">> 3.   MLD\n",
        ">> 4.   NAO\n",
        ">> 5.   AMO\n",
        "\n"
      ]
    },
    {
      "cell_type": "code",
      "metadata": {
        "id": "TLZ9LKP7bpx6"
      },
      "source": [
        ""
      ],
      "execution_count": null,
      "outputs": []
    }
  ]
}