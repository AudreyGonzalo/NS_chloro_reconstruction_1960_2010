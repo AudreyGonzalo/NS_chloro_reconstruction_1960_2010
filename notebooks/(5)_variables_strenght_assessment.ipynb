{
  "nbformat": 4,
  "nbformat_minor": 0,
  "metadata": {
    "colab": {
      "name": "variables_strenght_assessment.ipynb",
      "provenance": [],
      "collapsed_sections": [],
      "toc_visible": true
    },
    "kernelspec": {
      "name": "python3",
      "display_name": "Python 3"
    },
    "language_info": {
      "name": "python"
    }
  },
  "cells": [
    {
      "cell_type": "markdown",
      "metadata": {
        "id": "0ao5wH5Fsljz"
      },
      "source": [
        "# **Imports**"
      ]
    },
    {
      "cell_type": "code",
      "metadata": {
        "id": "DJlBUDmJTeOc"
      },
      "source": [
        "import numpy as np\n",
        "import matplotlib.pyplot as plt\n",
        "import torch\n",
        "import torch.nn as nn\n",
        "import torch.nn.functional as F\n",
        "from torch.autograd import Variable\n",
        "import torch.optim as optim\n",
        "from torch.utils.data import Dataset, DataLoader\n",
        "from tqdm import tqdm"
      ],
      "execution_count": 1,
      "outputs": []
    },
    {
      "cell_type": "code",
      "metadata": {
        "colab": {
          "base_uri": "https://localhost:8080/"
        },
        "id": "Sz0bSaVf0sM2",
        "outputId": "b047e726-2712-4ad6-9001-c2dc512807da"
      },
      "source": [
        "from google.colab import drive\n",
        "drive.mount('/content/drive')"
      ],
      "execution_count": 2,
      "outputs": [
        {
          "output_type": "stream",
          "text": [
            "Mounted at /content/drive\n"
          ],
          "name": "stdout"
        }
      ]
    },
    {
      "cell_type": "markdown",
      "metadata": {
        "id": "YqzZY5p3u-Zv"
      },
      "source": [
        "# **Load the formated data**"
      ]
    },
    {
      "cell_type": "code",
      "metadata": {
        "id": "8HSIqRRYvPyW"
      },
      "source": [
        "directory = '/content/drive/My Drive/Colab Notebooks/North_Sea/'\n",
        "exec(open(directory + 'src/inputs_rdn.py').read())"
      ],
      "execution_count": 3,
      "outputs": []
    },
    {
      "cell_type": "code",
      "metadata": {
        "id": "aPpcKWSesnUH"
      },
      "source": [
        "time_years, inp_true_test, chl_stand, NAO_stand, MLD_stand, SST_stand, wind_stand, AMO_stand = var_stand(directory)"
      ],
      "execution_count": 4,
      "outputs": []
    },
    {
      "cell_type": "markdown",
      "metadata": {
        "id": "AL9uEpABvFfo"
      },
      "source": [
        "# **Method 1**"
      ]
    },
    {
      "cell_type": "markdown",
      "metadata": {
        "id": "VjtbWuPYFJEp"
      },
      "source": [
        "> ## **Load the model**"
      ]
    },
    {
      "cell_type": "code",
      "metadata": {
        "id": "0vQfUicfMO6R"
      },
      "source": [
        "params = {}\n",
        "params['dim_chloro'] = 1\n",
        "params['dim_phy'] = 5\n",
        "params['dim_input_vect'] = params['dim_chloro'] + params['dim_phy']\n",
        "params['dim_input'] = params['dim_input_vect']\n",
        "params['dim_hidden_1'] = 32\n",
        "params['dim_hidden_2'] = 28\n",
        "params['dim_hidden_3'] = 14\n",
        "params['dim_output'] = params['dim_input']"
      ],
      "execution_count": 5,
      "outputs": []
    },
    {
      "cell_type": "code",
      "metadata": {
        "colab": {
          "base_uri": "https://localhost:8080/"
        },
        "id": "aROmR1cDFN19",
        "outputId": "c1f7a465-0770-45b7-edee-a2fc5608be1a"
      },
      "source": [
        "exec(open(directory + 'src/RNN.py').read())\n",
        "model_RNN_1 = INT_net(params)\n",
        "model_RNN_1.load_state_dict(torch.load(directory + 'models/model_1_weights.pth'))"
      ],
      "execution_count": 6,
      "outputs": [
        {
          "output_type": "execute_result",
          "data": {
            "text/plain": [
              "<All keys matched successfully>"
            ]
          },
          "metadata": {
            "tags": []
          },
          "execution_count": 6
        }
      ]
    },
    {
      "cell_type": "markdown",
      "metadata": {
        "id": "KjZGKZQuWFc2"
      },
      "source": [
        "> ## **Variables strenght assessment**"
      ]
    },
    {
      "cell_type": "code",
      "metadata": {
        "colab": {
          "base_uri": "https://localhost:8080/"
        },
        "id": "vjfJIKpJwWy_",
        "outputId": "bd760187-793d-4d27-d20c-8005b3b7c498"
      },
      "source": [
        "## SEE HOW THE ERROR EVOLVES WHEN RANDOMIZING ONE GIVEN PHYSICAL VARIABLE\n",
        "variables = ['NAO', 'MLD', 'SST', 'wind', 'AMO']\n",
        "Chl_stand_test = inp_true_test[:,0].reshape(1,-1)[0]\n",
        "var_test = np.var(Chl_stand_test)\n",
        "model_RNN_1.double()\n",
        "for i, var in enumerate(variables):\n",
        "    print(\"[%d/%d] : \"%(i+1, len(variables)), var)\n",
        "    MSE_table = []\n",
        "    for k in range(100):\n",
        "        inp_test_rdn, inp_true_test_rdn, dt_test = inputs_rdn_1(time_years, chl_stand, NAO_stand, MLD_stand, SST_stand, wind_stand, AMO_stand, randomized_variable = var)\n",
        "        NN_outputs_test = []\n",
        "        old_pred = torch.from_numpy(inp_test_rdn[0]).view(1,-1)\n",
        "        for i in range(len(inp_test_rdn)):\n",
        "            pred = model_RNN_1(old_pred, torch.from_numpy(dt_test[i]).view(1,-1))\n",
        "            old_pred = torch.cat((pred[0,0].view(1,-1), torch.from_numpy(inp_true_test_rdn)[i,1:].view(1,-1)), axis = 1)\n",
        "            NN_outputs_test.append(pred.cpu().detach().numpy()[0][0])\n",
        "\n",
        "        NMSE = (Chl_stand_test - NN_outputs_test)**2/var_test\n",
        "        MSE_table.append(np.mean(NMSE))\n",
        "    print(\"Mean MSE :\", np.mean(MSE_table))\n",
        "    print(\"STD  MSE :\", np.std(MSE_table))\n",
        "    print()"
      ],
      "execution_count": 7,
      "outputs": [
        {
          "output_type": "stream",
          "text": [
            "[1/5] :  NAO\n",
            "Mean MSE : 0.9626670135107463\n",
            "STD  MSE : 0.009373489780027527\n",
            "\n",
            "[2/5] :  MLD\n",
            "Mean MSE : 1.7372003530435274\n",
            "STD  MSE : 0.12574243032994836\n",
            "\n",
            "[3/5] :  SST\n",
            "Mean MSE : 2.910153535006516\n",
            "STD  MSE : 0.17310888888915038\n",
            "\n",
            "[4/5] :  wind\n",
            "Mean MSE : 1.0138815234150464\n",
            "STD  MSE : 0.025664644854645667\n",
            "\n",
            "[5/5] :  AMO\n",
            "Mean MSE : 0.7880413610584802\n",
            "STD  MSE : 0.012813359094589017\n",
            "\n"
          ],
          "name": "stdout"
        }
      ]
    },
    {
      "cell_type": "markdown",
      "metadata": {
        "id": "TdaocwCyef5R"
      },
      "source": [
        ">> **Variables classification :**\n",
        ">> 1.   SST\n",
        ">> 2.   MLD\n",
        ">> 3.   wind\n",
        ">> 4.   NAO\n",
        ">> 5.   AMO\n",
        "\n"
      ]
    },
    {
      "cell_type": "markdown",
      "metadata": {
        "id": "B7BXbqXIX48h"
      },
      "source": [
        "# **Method 2**"
      ]
    },
    {
      "cell_type": "markdown",
      "metadata": {
        "id": "592MWSsCYCLl"
      },
      "source": [
        "> ## **Load the model**"
      ]
    },
    {
      "cell_type": "code",
      "metadata": {
        "id": "ww5smom5YV1E"
      },
      "source": [
        "params['dt_horizon'] = 6"
      ],
      "execution_count": 8,
      "outputs": []
    },
    {
      "cell_type": "code",
      "metadata": {
        "colab": {
          "base_uri": "https://localhost:8080/"
        },
        "id": "Z6Tc8YLJYhBA",
        "outputId": "2dc1fbd8-05b7-441b-c1ef-37840ed0f9d8"
      },
      "source": [
        "model_RNN_2 = INT_net(params)\n",
        "model_RNN_2.load_state_dict(torch.load(directory + 'models/model_2_weights.pth'))"
      ],
      "execution_count": 9,
      "outputs": [
        {
          "output_type": "execute_result",
          "data": {
            "text/plain": [
              "<All keys matched successfully>"
            ]
          },
          "metadata": {
            "tags": []
          },
          "execution_count": 9
        }
      ]
    },
    {
      "cell_type": "markdown",
      "metadata": {
        "id": "qyoi8mSuY-id"
      },
      "source": [
        "> ## **Variables strenght assessment**"
      ]
    },
    {
      "cell_type": "code",
      "metadata": {
        "colab": {
          "base_uri": "https://localhost:8080/"
        },
        "id": "dTbFtounY-id",
        "outputId": "82297d5e-1236-4d71-faba-64c495109a7a"
      },
      "source": [
        "## SEE HOW THE ERROR EVOLVES WHEN RANDOMIZING ONE GIVEN PHYSICAL VARIABLE\n",
        "variables = ['NAO', 'MLD', 'SST', 'wind', 'AMO']\n",
        "Chl_stand_test = inp_true_test[:,0].reshape(1,-1)[0]\n",
        "var_test = np.var(Chl_stand_test)\n",
        "model_RNN_2.double()\n",
        "for i, var in enumerate(variables):\n",
        "    print(\"[%d/%d] : \"%(i+1, len(variables)), var)\n",
        "    MSE_table = []\n",
        "    for k in range(100):\n",
        "        inp_test_rdn, inp_true_test_rdn, dt_test = inputs_rdn_1(time_years, chl_stand, NAO_stand, MLD_stand, SST_stand, wind_stand, AMO_stand, randomized_variable = var)\n",
        "        NN_outputs_test = []\n",
        "        old_pred = torch.from_numpy(inp_test_rdn[0]).view(1,-1)\n",
        "        for i in range(len(inp_test_rdn)):\n",
        "            pred = model_RNN_2(old_pred, torch.from_numpy(dt_test[i]).view(1,-1))\n",
        "            old_pred = torch.cat((pred[0,0].view(1,-1), torch.from_numpy(inp_true_test_rdn)[i,1:].view(1,-1)), axis = 1)\n",
        "            NN_outputs_test.append(pred.cpu().detach().numpy()[0][0])\n",
        "\n",
        "        NMSE = (Chl_stand_test - NN_outputs_test)**2/var_test\n",
        "        MSE_table.append(np.mean(NMSE))\n",
        "    print(\"Mean MSE :\", np.mean(MSE_table))\n",
        "    print(\"STD  MSE :\", np.std(MSE_table))\n",
        "    print()"
      ],
      "execution_count": 10,
      "outputs": [
        {
          "output_type": "stream",
          "text": [
            "[1/5] :  NAO\n",
            "Mean MSE : 0.5534531570222059\n",
            "STD  MSE : 0.009987374105847418\n",
            "\n",
            "[2/5] :  MLD\n",
            "Mean MSE : 0.9263130205577512\n",
            "STD  MSE : 0.05239600653848514\n",
            "\n",
            "[3/5] :  SST\n",
            "Mean MSE : 2.7446571948021528\n",
            "STD  MSE : 0.20522906880145378\n",
            "\n",
            "[4/5] :  wind\n",
            "Mean MSE : 0.7945572543496924\n",
            "STD  MSE : 0.042086157921875166\n",
            "\n",
            "[5/5] :  AMO\n",
            "Mean MSE : 0.5085156826984302\n",
            "STD  MSE : 0.003334789117037108\n",
            "\n"
          ],
          "name": "stdout"
        }
      ]
    },
    {
      "cell_type": "markdown",
      "metadata": {
        "id": "3DwrTi2Hd7vQ"
      },
      "source": [
        ">> **Variables classification :**\n",
        ">> 1.   SST\n",
        ">> 2.   wind\n",
        ">> 3.   MLD\n",
        ">> 4.   NAO\n",
        ">> 5.   AMO\n",
        "\n"
      ]
    },
    {
      "cell_type": "markdown",
      "metadata": {
        "id": "zClP5WXpaF9I"
      },
      "source": [
        "# **Method 3**"
      ]
    },
    {
      "cell_type": "markdown",
      "metadata": {
        "id": "uP94DoVWalQV"
      },
      "source": [
        "> ## **Load the model**"
      ]
    },
    {
      "cell_type": "code",
      "metadata": {
        "id": "k3POmAXpaKn7"
      },
      "source": [
        "params['dt_horizon'] = 4\n",
        "params['dim_input_vect'] = params['dim_chloro'] + params['dim_phy']\n",
        "params['dim_input'] = params['dim_input_vect'] * params['dt_horizon'] \n",
        "params['dim_hidden_1'] = 200\n",
        "params['dim_hidden_2'] = 150\n",
        "params['dim_hidden_3'] = 100\n",
        "params['dim_output'] = params['dim_input']"
      ],
      "execution_count": 11,
      "outputs": []
    },
    {
      "cell_type": "code",
      "metadata": {
        "colab": {
          "base_uri": "https://localhost:8080/"
        },
        "id": "E9ve_gV0apeU",
        "outputId": "1886e279-3046-4ea3-f27e-9037a71180d7"
      },
      "source": [
        "model_RNN_3 = INT_net(params)\n",
        "model_RNN_3.load_state_dict(torch.load(directory + 'models/model_3_weights.pth'))"
      ],
      "execution_count": 12,
      "outputs": [
        {
          "output_type": "execute_result",
          "data": {
            "text/plain": [
              "<All keys matched successfully>"
            ]
          },
          "metadata": {
            "tags": []
          },
          "execution_count": 12
        }
      ]
    },
    {
      "cell_type": "markdown",
      "metadata": {
        "id": "8eArQXTna5rX"
      },
      "source": [
        "> ## **Variables strenght assessment**"
      ]
    },
    {
      "cell_type": "code",
      "metadata": {
        "colab": {
          "base_uri": "https://localhost:8080/"
        },
        "id": "qbTm0me6a33s",
        "outputId": "f78ae60b-5054-4b62-a77a-9a87bad0bb1f"
      },
      "source": [
        "## SEE HOW THE ERROR EVOLVES WHEN RANDOMIZING ONE GIVEN PHYSICAL VARIABLE\n",
        "variables = ['NAO', 'MLD', 'SST', 'wind', 'AMO']\n",
        "Chl_stand_test = inp_true_test[:,0].reshape(1,-1)[0]\n",
        "var_test = np.var(Chl_stand_test)\n",
        "for i, var in enumerate(variables):\n",
        "    print(\"[%d/%d] : \"%(i+1, len(variables)), var)\n",
        "    MSE_table = []\n",
        "    for k in range(100):\n",
        "        inp_test_rdn, inp_true_test_rdn, dt_test = inputs_rdn_3(time_years, chl_stand, NAO_stand, MLD_stand, SST_stand, wind_stand, AMO_stand, params['dt_horizon'], randomized_variable = var)\n",
        "        NN_outputs_test = []\n",
        "        old_pred = inp_test_rdn[0].view(1,-1)\n",
        "        for i in range(len(inp_test_rdn)):\n",
        "            six_prev_months = old_pred\n",
        "            pred = model_RNN_3(old_pred, torch.ones([1,1]).view(1,-1))\n",
        "            old_pred = torch.cat((six_prev_months[0, params['dim_input_vect']:].view(1,-1), pred[0,0].view(1,-1)), axis = 1) # drop the oldest month (t-6) of lenght params['dim_input_vect'] = 6, and concat with Chl predicted at month t\n",
        "            old_pred = torch.cat((old_pred, inp_true_test_rdn[i,1:params['dim_input_vect']].view(1,-1)), axis = 1) # concat with the true physics à month t\n",
        "            NN_outputs_test.append(pred.cpu().detach().numpy()[0,0])\n",
        "\n",
        "        NMSE = (Chl_stand_test[params['dt_horizon']-1:-params['dt_horizon']] - NN_outputs_test)**2/var_test\n",
        "        MSE_table.append(np.mean(NMSE))\n",
        "    print(\"Mean MSE :\", np.mean(MSE_table))\n",
        "    print(\"STD  MSE :\", np.std(MSE_table))\n",
        "    print()"
      ],
      "execution_count": 13,
      "outputs": [
        {
          "output_type": "stream",
          "text": [
            "[1/5] :  NAO\n",
            "Mean MSE : 0.6075584091766857\n",
            "STD  MSE : 0.011725939249347929\n",
            "\n",
            "[2/5] :  MLD\n",
            "Mean MSE : 0.8402855991078672\n",
            "STD  MSE : 0.034350607733785385\n",
            "\n",
            "[3/5] :  SST\n",
            "Mean MSE : 1.875814047976614\n",
            "STD  MSE : 0.1355805944092045\n",
            "\n",
            "[4/5] :  wind\n",
            "Mean MSE : 0.6609942693868822\n",
            "STD  MSE : 0.020423049731748202\n",
            "\n",
            "[5/5] :  AMO\n",
            "Mean MSE : 0.6142014171131945\n",
            "STD  MSE : 0.0023597814420204906\n",
            "\n"
          ],
          "name": "stdout"
        }
      ]
    },
    {
      "cell_type": "markdown",
      "metadata": {
        "id": "87Pv3ztbewAS"
      },
      "source": [
        ">> **Variables classification :**\n",
        ">> 1.   SST\n",
        ">> 2.   wind\n",
        ">> 3.   MLD\n",
        ">> 4.   NAO\n",
        ">> 5.   AMO\n",
        "\n"
      ]
    },
    {
      "cell_type": "code",
      "metadata": {
        "id": "TLZ9LKP7bpx6"
      },
      "source": [
        ""
      ],
      "execution_count": 13,
      "outputs": []
    }
  ]
}